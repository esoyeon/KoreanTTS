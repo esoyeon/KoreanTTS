{
 "cells": [
  {
   "cell_type": "code",
   "execution_count": null,
   "metadata": {
    "id": "5rFydaXQuVzD"
   },
   "outputs": [],
   "source": [
    "# !git clone https://github.com/hccho2/Tacotron2-Wavenet-Korean-TTS.git"
   ]
  },
  {
   "cell_type": "code",
   "execution_count": null,
   "metadata": {
    "id": "05nsCZudm5IW"
   },
   "outputs": [],
   "source": [
    "# import os\n",
    "# os.chdir('/content/drive/My Drive/Project/TTS_Transfer')\n",
    "# os.getcwd()\n",
    "# !git clone https://github.com/TensorSpeech/TensorFlowTTS.git\n",
    "# os.chdir(\"TensorFlowTTS\")\n",
    "# !pip install .\n",
    "# os.chdir(\"..\")\n",
    "\n",
    "# import sys\n",
    "# sys.path.append(\"TensorFlowTTS/\")"
   ]
  },
  {
   "cell_type": "code",
   "execution_count": null,
   "metadata": {
    "colab": {
     "base_uri": "https://localhost:8080/",
     "height": 1000
    },
    "id": "sMlEogXVOMGF",
    "outputId": "19b754a6-d370-44fc-98f6-b07f2f5a8c00"
   },
   "outputs": [],
   "source": [
    "import os\n",
    "os.chdir('/content/drive/My Drive/Project/TTS_audiobook/TensorFlowTTS')\n",
    "print(os.getcwd())\n",
    "! pip install TensorFlowTTS\n",
    "\n",
    "import sys\n",
    "sys.path.append(\"TensorFlowTTS/\")"
   ]
  },
  {
   "cell_type": "code",
   "execution_count": null,
   "metadata": {
    "colab": {
     "base_uri": "https://localhost:8080/",
     "height": 457
    },
    "id": "tNsh6hKg4wzo",
    "outputId": "b8bc79b7-f79f-42a8-e854-64779545ca5a"
   },
   "outputs": [],
   "source": [
    "import os\n",
    "os.chdir('/content/drive/My Drive/Project/TTS_audiobook/TensorFlowTTS')\n",
    "os.getcwd()\n",
    "os.listdir()"
   ]
  },
  {
   "cell_type": "code",
   "execution_count": null,
   "metadata": {
    "colab": {
     "base_uri": "https://localhost:8080/",
     "height": 70
    },
    "id": "K1rQYI0Po0BF",
    "outputId": "441a2128-850e-4c2b-91e0-579fc8a82fd4"
   },
   "outputs": [],
   "source": [
    "import tensorflow as tf\n",
    "\n",
    "import pandas as pd\n",
    "import yaml\n",
    "import numpy as np\n",
    "import matplotlib.pyplot as plt\n",
    "\n",
    "import IPython.display as ipd\n",
    "\n",
    "from tensorflow_tts.inference import AutoConfig\n",
    "from tensorflow_tts.inference import TFAutoModel\n",
    "from tensorflow_tts.inference import AutoProcessor\n",
    "\n",
    "import nltk\n",
    "nltk.download('punkt')"
   ]
  },
  {
   "cell_type": "code",
   "execution_count": null,
   "metadata": {
    "colab": {
     "base_uri": "https://localhost:8080/",
     "height": 1000
    },
    "id": "_1NQ3qFKo7aa",
    "outputId": "3b7da08d-cd81-4c89-9a44-8784d5b2f345"
   },
   "outputs": [],
   "source": [
    "# 데이터 전처리 \n",
    "!tensorflow-tts-preprocess --rootdir ./kss --outdir ./dump_yin_40 --config ./preprocess/kss_preprocess.yaml --dataset kss"
   ]
  },
  {
   "cell_type": "code",
   "execution_count": null,
   "metadata": {
    "colab": {
     "base_uri": "https://localhost:8080/",
     "height": 298
    },
    "id": "WSObX7Ic1s8R",
    "outputId": "20cc46d4-78a9-4d6b-9b11-102c4a72efbc"
   },
   "outputs": [],
   "source": [
    "# 데이터 Normailizing \n",
    "!tensorflow-tts-normalize --rootdir ./dump_yin_40 --outdir ./dump_yin_40 --config ./preprocess/kss_preprocess.yaml --dataset kss"
   ]
  },
  {
   "cell_type": "code",
   "execution_count": null,
   "metadata": {
    "colab": {
     "base_uri": "https://localhost:8080/",
     "height": 1000
    },
    "id": "winiV_bl1xwE",
    "outputId": "4e750687-571b-4bb9-9db2-c3240500f7fe"
   },
   "outputs": [],
   "source": [
    "# 타코트론 학습 \n",
    "!CUDA_VISIBLE_DEVICES=0 python ./ttsexamples/tacotron2/train_tacotron2.py\\\n",
    "  --train-dir ./dump_book/train/ \\\n",
    "  --dev-dir ./dump_book/valid/ \\\n",
    "  --outdir ./ttsexamples/tacotron2/exp/train.tacotron2.v2/ \\\n",
    "  --config ./ttsexamples/tacotron2/conf/tacotron2.kss.v1.yaml \\\n",
    "  --use-norm 1 \\\n",
    "  --mixed_precision 0 \\\n",
    "  --resume ./ttsexamples/multiband_melgan/exp/train.multiband_melgan.v2/checkpoints/ckpt-3500\n",
    "# --pretrained ./ttsexamples/tacotron2/exp/train.tacotron2.v1/checkpoints/model-88000.h5"
   ]
  },
  {
   "cell_type": "code",
   "execution_count": null,
   "metadata": {
    "id": "J-Jlor-7scb6"
   },
   "outputs": [],
   "source": [
    "# melgan 학습 \n",
    "!CUDA_VISIBLE_DEVICES=0 python ./ttsexamples/multiband_melgan/train_multiband_melgan.py\\\n",
    "  --train-dir ./dump_moon/train/ \\\n",
    "  --dev-dir ./dump_moon/valid/ \\\n",
    "  --outdir ./ttsexamples/multiband_melgan/exp/train.multiband_melgan.v1/ \\\n",
    "  --config ./ttsexamples/multiband_melgan/conf/multiband_melgan.v1.yaml \\\n",
    "  --use-norm 1 \\\n",
    "  --generator_mixed_precision 1 \\\n",
    "  --resume ./ttsexamples/multiband_melgan/exp/train.multiband_melgan.v1/checkpoints/ckpt-240000"
   ]
  },
  {
   "cell_type": "markdown",
   "metadata": {
    "id": "AGoK3yTEyfBt"
   },
   "source": [
    "## Inference"
   ]
  },
  {
   "cell_type": "code",
   "execution_count": null,
   "metadata": {
    "id": "fdsA6u2YgKVO"
   },
   "outputs": [],
   "source": [
    "tacotron2_config = AutoConfig.from_pretrained('/content/drive/My Drive/Project/TTS_audiobook/TensorFlowTTS/ttsexamples/tacotron2/conf/tacotron2.kss.v1.yaml')\n",
    "tacotron2 = TFAutoModel.from_pretrained(\n",
    "    config=tacotron2_config,\n",
    "    pretrained_path=\"/content/drive/My Drive/Project/TTS_audiobook/TensorFlowTTS/ttsexamples/tacotron2/exp/train.tacotron2.v4/checkpoints/model-86000.h5\",\n",
    "    training=False, \n",
    "    name=\"tacotron2\"\n",
    ")\n",
    "\n",
    "#  pretrained_path=\"/content/drive/My Drive/Project/TTS_Transfer/TensorFlowTTS/ttsexamples/tacotron2/exp/train.tacotron2.v1/checkpoints/model-12000.h5"
   ]
  },
  {
   "cell_type": "code",
   "execution_count": null,
   "metadata": {
    "id": "tJ0u1J4Wyeu0"
   },
   "outputs": [],
   "source": [
    "mb_melgan_config = AutoConfig.from_pretrained('/content/drive/My Drive/Project/TTS/TensorFlowTTS/ttsexamples/multiband_melgan/conf/multiband_melgan.v1.yaml')\n",
    "mb_melgan = TFAutoModel.from_pretrained(\n",
    "    config=mb_melgan_config,\n",
    "    pretrained_path=\"/content/drive/My Drive/Project/TTS_YIN/TensorFlowTTS/ttsexamples/multiband_melgan/exp/train.multiband_melgan.v1/checkpoints/generator-360000.h5\",\n",
    "    name=\"mb_melgan\"\n",
    ")"
   ]
  },
  {
   "cell_type": "code",
   "execution_count": null,
   "metadata": {
    "id": "4Bdzz0Uryeal"
   },
   "outputs": [],
   "source": [
    "processor = AutoProcessor.from_pretrained(pretrained_path=\"/content/drive/My Drive/Project/TTS_audiobook/TensorFlowTTS/dump_yu_new/kss_mapper.json\")"
   ]
  },
  {
   "cell_type": "code",
   "execution_count": null,
   "metadata": {
    "colab": {
     "base_uri": "https://localhost:8080/",
     "height": 54
    },
    "id": "0d_XzG-7bNxi",
    "outputId": "122b0a24-cef7-41c4-e438-a8096b8bbf81"
   },
   "outputs": [],
   "source": [
    "processor"
   ]
  },
  {
   "cell_type": "code",
   "execution_count": null,
   "metadata": {
    "id": "hfk2RqrJyeNW"
   },
   "outputs": [],
   "source": [
    "def do_synthesis(input_text, text2mel_model, vocoder_model, text2mel_name, vocoder_name):\n",
    "  input_ids = processor.text_to_sequence(input_text)\n",
    "\n",
    "  # text2mel part\n",
    "  if text2mel_name == \"TACOTRON\":\n",
    "    _, mel_outputs, stop_token_prediction, alignment_history = text2mel_model.inference(\n",
    "        tf.expand_dims(tf.convert_to_tensor(input_ids, dtype=tf.int32), 0),\n",
    "        tf.convert_to_tensor([len(input_ids)], tf.int32),\n",
    "        tf.convert_to_tensor([0], dtype=tf.int32)\n",
    "    )\n",
    "  elif text2mel_name == \"FASTSPEECH2\":\n",
    "    mel_before, mel_outputs, duration_outputs, _, _ = text2mel_model.inference(\n",
    "        tf.expand_dims(tf.convert_to_tensor(input_ids, dtype=tf.int32), 0),\n",
    "        speaker_ids=tf.convert_to_tensor([0], dtype=tf.int32),\n",
    "        speed_ratios=tf.convert_to_tensor([1.0], dtype=tf.float32),\n",
    "        f0_ratios=tf.convert_to_tensor([1.0], dtype=tf.float32),\n",
    "        energy_ratios=tf.convert_to_tensor([1.0], dtype=tf.float32),\n",
    "    )\n",
    "  else:\n",
    "    raise ValueError(\"Only TACOTRON, FASTSPEECH2 are supported on text2mel_name\")\n",
    "\n",
    "  # vocoder part\n",
    "  if vocoder_name == \"MB-MELGAN\":\n",
    "    audio = vocoder_model.inference(mel_outputs)[0, :, 0]\n",
    "  else:\n",
    "    raise ValueError(\"Only MB_MELGAN are supported on vocoder_name\")\n",
    "\n",
    "  if text2mel_name == \"TACOTRON\":\n",
    "    return mel_outputs.numpy(), alignment_history.numpy(), audio.numpy()\n",
    "  else:\n",
    "    return mel_outputs.numpy(), audio.numpy()\n",
    "\n",
    "def visualize_attention(alignment_history):\n",
    "  import matplotlib.pyplot as plt\n",
    "\n",
    "  fig = plt.figure(figsize=(8, 6))\n",
    "  ax = fig.add_subplot(111)\n",
    "  ax.set_title(f'Alignment steps')\n",
    "  im = ax.imshow(\n",
    "      alignment_history,\n",
    "      aspect='auto',\n",
    "      origin='lower',\n",
    "      interpolation='none')\n",
    "  fig.colorbar(im, ax=ax)\n",
    "  xlabel = 'Decoder timestep'\n",
    "  plt.xlabel(xlabel)\n",
    "  plt.ylabel('Encoder timestep')\n",
    "  plt.tight_layout()\n",
    "  plt.show()\n",
    "  plt.close()\n",
    "\n",
    "def visualize_mel_spectrogram(mels):\n",
    "  mels = tf.reshape(mels, [-1, 80]).numpy()\n",
    "  fig = plt.figure(figsize=(10, 8))\n",
    "  ax1 = fig.add_subplot(311)\n",
    "  ax1.set_title(f'Predicted Mel-after-Spectrogram')\n",
    "  im = ax1.imshow(np.rot90(mels), aspect='auto', interpolation='none')\n",
    "  fig.colorbar(mappable=im, shrink=0.65, orientation='horizontal', ax=ax1)\n",
    "  plt.show()\n",
    "  plt.close()"
   ]
  },
  {
   "cell_type": "code",
   "execution_count": null,
   "metadata": {
    "id": "0xe8-C91yyGK"
   },
   "outputs": [],
   "source": [
    "input_text = \"뭐하는 거니 너 지금\""
   ]
  },
  {
   "cell_type": "code",
   "execution_count": null,
   "metadata": {
    "colab": {
     "base_uri": "https://localhost:8080/",
     "height": 70
    },
    "id": "t_Dy1Fvlok_D",
    "outputId": "3f2bbf99-be16-4bdf-c462-32e712b458d0"
   },
   "outputs": [],
   "source": [
    "tf.expand_dims(tf.convert_to_tensor(input_ids, dtype=tf.int32), 0)"
   ]
  },
  {
   "cell_type": "code",
   "execution_count": null,
   "metadata": {
    "colab": {
     "base_uri": "https://localhost:8080/",
     "height": 1000
    },
    "id": "wHSz4gNyoTUk",
    "outputId": "3b2c3b32-3e40-4936-a9a5-19848060ed89"
   },
   "outputs": [],
   "source": [
    "tacotron2.inference(tf.expand_dims(tf.convert_to_tensor(input_ids, dtype=tf.int32), 0), tf.convert_to_tensor([len(input_ids)], tf.int32), tf.convert_to_tensor([0], dtype=tf.int32))"
   ]
  },
  {
   "cell_type": "code",
   "execution_count": null,
   "metadata": {
    "colab": {
     "base_uri": "https://localhost:8080/",
     "height": 671
    },
    "id": "BclMT0eie50v",
    "outputId": "d8e30d42-a9bd-4d46-d7e0-def4a1bafb51"
   },
   "outputs": [],
   "source": [
    "mels, alignment_history, audios = do_synthesis(input_text, tacotron2, mb_melgan, \"TACOTRON\", \"MB-MELGAN\")\n",
    "visualize_attention(alignment_history[0])\n",
    "visualize_mel_spectrogram(mels[0])\n",
    "ipd.Audio(audios, rate=22050)"
   ]
  },
  {
   "cell_type": "code",
   "execution_count": null,
   "metadata": {
    "id": "Ve_DX2tQe7MP"
   },
   "outputs": [],
   "source": []
  },
  {
   "cell_type": "code",
   "execution_count": null,
   "metadata": {
    "id": "aEIAX6XRe7CC"
   },
   "outputs": [],
   "source": []
  }
 ],
 "metadata": {
  "colab": {
   "collapsed_sections": [
    "9w-YYB2mWgq0",
    "O7gsypaRtdtE"
   ],
   "machine_shape": "hm",
   "name": "TTS_yuinna.ipynb",
   "provenance": []
  },
  "kernelspec": {
   "display_name": "Python 3",
   "language": "python",
   "name": "python3"
  },
  "language_info": {
   "codemirror_mode": {
    "name": "ipython",
    "version": 3
   },
   "file_extension": ".py",
   "mimetype": "text/x-python",
   "name": "python",
   "nbconvert_exporter": "python",
   "pygments_lexer": "ipython3",
   "version": "3.8.3"
  },
  "toc": {
   "base_numbering": 1,
   "nav_menu": {},
   "number_sections": true,
   "sideBar": true,
   "skip_h1_title": false,
   "title_cell": "Table of Contents",
   "title_sidebar": "Contents",
   "toc_cell": false,
   "toc_position": {},
   "toc_section_display": true,
   "toc_window_display": false
  }
 },
 "nbformat": 4,
 "nbformat_minor": 1
}
